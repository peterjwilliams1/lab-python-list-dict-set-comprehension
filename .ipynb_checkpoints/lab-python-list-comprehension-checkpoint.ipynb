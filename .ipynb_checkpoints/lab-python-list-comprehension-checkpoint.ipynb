{
 "cells": [
  {
   "cell_type": "markdown",
   "id": "25d7736c-ba17-4aff-b6bb-66eba20fbf4e",
   "metadata": {},
   "source": [
    "# Lab | List, Dict and Set Comprehension"
   ]
  },
  {
   "cell_type": "markdown",
   "id": "7dd3cbde-675a-4b81-92c3-f728846dbe06",
   "metadata": {},
   "source": [
    "## Exercise: Managing Customer Orders Optimized with Comprehension"
   ]
  },
  {
   "cell_type": "code",
   "execution_count": null,
   "id": "f32d98c6-1838-43d8-82eb-a2c1f6940573",
   "metadata": {},
   "outputs": [],
   "source": [
    "In the previous exercise, you developed a program to manage customer orders and inventory. Now, let's take it a step further and incorporate comprehension into your code.\n",
    "\n",
    "Follow the steps below to complete the exercise:\n",
    "\n",
    "1. Review your code from the previous exercise and identify areas where you can apply comprehension to simplify and streamline your code. \n",
    "\n",
    "    - *Hint: Apply it to initialize inventory, updating the inventory and printing the updated inventory.*\n",
    "    \n",
    "    - For example, in initializing the inventory, we could have:\n",
    "    \n",
    "        ```python\n",
    "        def initialize_inventory(products):\n",
    "            inventory = {product: int(input(f\"Enter the quantity of {product}s available: \")) for product in products}\n",
    "            return inventory\n",
    "\n",
    "        ```\n",
    "<br>\n",
    "    \n",
    "    \n",
    "2. Modify the function get_customer_orders so it prompts the user to enter the number of customer orders and gathers the product names using a loop and user input. Use comprehension.\n",
    "\n",
    "3. Add a new function to calculate the total price of the customer order. For each product in customer_orders, prompt the user to enter the price of that product. Use comprehension to calculate the total price. Note: assume that the user can only have 1 unit of each product.\n",
    "\n",
    "Add a new function to calculate the total price of the customer order. For each product in customer_orders, prompt the user to enter the price of that product. Use comprehension to calculate the total price. Note: assume that the user can only have 1 unit of each product.\n",
    "5. Print the total price of the customer order.\n",
    "\n",
    "Your code should produce output similar to the following:\n",
    "\n",
    "```python\n",
    "Enter the quantity of t-shirts available:  5\n",
    "Enter the quantity of mugs available:  4\n",
    "Enter the quantity of hats available:  3\n",
    "Enter the quantity of books available:  2\n",
    "Enter the quantity of keychains available:  1\n",
    "Enter the number of customer orders:  2\n",
    "Enter the name of a product that a customer wants to order:  hat\n",
    "Enter the name of a product that a customer wants to order:  keychain\n",
    "\n",
    "Order Statistics:\n",
    "Total Products Ordered: 2\n",
    "Percentage of Unique Products Ordered: 40.0\n",
    "\n",
    "Updated Inventory:\n",
    "t-shirt: 5\n",
    "mug: 4\n",
    "hat: 2\n",
    "book: 2\n",
    "Enter the price of keychain:  5\n",
    "Enter the price of hat:  10\n",
    "Total Price: 15.0\n",
    "\n",
    "```\n"
   ]
  },
  {
   "cell_type": "code",
   "execution_count": 24,
   "id": "774de2e3-3a3f-46e3-b736-6fec29c7989a",
   "metadata": {},
   "outputs": [
    {
     "name": "stdin",
     "output_type": "stream",
     "text": [
      "How Many Available?:t-shirt 10\n",
      "How Many Available?:mug 10\n",
      "How Many Available?:hat 10\n",
      "How Many Available?:book 10\n",
      "How Many Available?:keychain 10\n"
     ]
    }
   ],
   "source": [
    "# Question 1\n",
    "products = [\"t-shirt\", \"mug\", \"hat\", \"book\", \"keychain\"]\n",
    "inventory = {}\n",
    "def initialize_inventory(products, inventory = {}):\n",
    "    for i in products: #i changes each time it goes around in the products list\n",
    "        amount = int(input(f\"How Many Available?:{i}\"))\n",
    "        inventory[i] = amount \n",
    "    return inventory\n",
    "inventory_values = initialize_inventory(products)"
   ]
  },
  {
   "cell_type": "code",
   "execution_count": 26,
   "id": "5d9997f1-cb5b-4fed-be33-f4718ba710c9",
   "metadata": {},
   "outputs": [
    {
     "name": "stdin",
     "output_type": "stream",
     "text": [
      "How Many Available?:t-shirt 10\n",
      "How Many Available?:mug 10\n",
      "How Many Available?:hat 10\n",
      "How Many Available?:book 10\n",
      "How Many Available?:keychain 10\n"
     ]
    }
   ],
   "source": [
    "inventory=initialize_inventory(products)"
   ]
  },
  {
   "cell_type": "code",
   "execution_count": 32,
   "id": "79d23056-4bdf-435a-8163-757d3b7943df",
   "metadata": {},
   "outputs": [
    {
     "data": {
      "text/plain": [
       "{'t-shirt': 10, 'mug': 10, 'hat': 10, 'book': 10, 'keychain': 10}"
      ]
     },
     "execution_count": 32,
     "metadata": {},
     "output_type": "execute_result"
    }
   ],
   "source": [
    "inventory_values"
   ]
  },
  {
   "cell_type": "code",
   "execution_count": 34,
   "id": "7a20fe56-0609-4cb8-8dd1-e61cbb8e97ac",
   "metadata": {},
   "outputs": [
    {
     "data": {
      "text/plain": [
       "{'t-shirt': 10, 'mug': 10, 'hat': 10, 'book': 10, 'keychain': 10}"
      ]
     },
     "execution_count": 34,
     "metadata": {},
     "output_type": "execute_result"
    }
   ],
   "source": [
    "inventory"
   ]
  },
  {
   "cell_type": "code",
   "execution_count": 30,
   "id": "09d58b62-84eb-45ba-ad78-14c22b0172e6",
   "metadata": {},
   "outputs": [
    {
     "data": {
      "text/plain": [
       "['t-shirt', 'mug', 'hat', 'book', 'keychain']"
      ]
     },
     "execution_count": 30,
     "metadata": {},
     "output_type": "execute_result"
    }
   ],
   "source": [
    "products"
   ]
  },
  {
   "cell_type": "code",
   "execution_count": 20,
   "id": "a4fbf62d-859f-4da5-840a-958400b7dc54",
   "metadata": {},
   "outputs": [],
   "source": [
    "#Question 2\n",
    "products = [\"t-shirt\", \"mug\", \"hat\", \"book\", \"keychain\"]\n",
    "def get_customer_orders():\n",
    "    customer_order = set()\n",
    "    answer=\"y\"\n",
    "\n",
    "    while answer.lower() == \"y\":\n",
    "        item = input(\"Enter Product To Order: \")\n",
    "        customer_order.add(item)\n",
    "        answer = input(\"Do you want to add another product? (y/n): \")\n",
    "    print(customer_order)\n",
    "    return customer_order"
   ]
  },
  {
   "cell_type": "code",
   "execution_count": 24,
   "id": "0de0950e-c221-4c9c-a151-cc863df5e933",
   "metadata": {},
   "outputs": [
    {
     "name": "stdin",
     "output_type": "stream",
     "text": [
      "Enter Product To Order:  hat\n",
      "Do you want to add another product? (y/n):  y\n",
      "Enter Product To Order:  mug\n",
      "Do you want to add another product? (y/n):  n\n"
     ]
    },
    {
     "name": "stdout",
     "output_type": "stream",
     "text": [
      "{'mug', 'hat'}\n"
     ]
    }
   ],
   "source": [
    "customer_orders = get_customer_orders()"
   ]
  },
  {
   "cell_type": "code",
   "execution_count": 30,
   "id": "944e9d21-927c-40c7-9a4c-ba5874f6c531",
   "metadata": {},
   "outputs": [],
   "source": [
    "# Question 3\n",
    "def update_inventory(customer_orders, inventory):\n",
    "    for item in customer_orders:\n",
    "        if inventory[item] > 0:\n",
    "           inventory[item] -= 1 ## This is a hard coded number because hat=1 and mug =1.\n",
    "        else:\n",
    "            None \n",
    "    return inventory"
   ]
  },
  {
   "cell_type": "code",
   "execution_count": 32,
   "id": "9d43c602-3e66-4709-bb4e-677a8bc64771",
   "metadata": {},
   "outputs": [
    {
     "data": {
      "text/plain": [
       "{'t-shirt': 2, 'mug': 2, 'hat': 2, 'book': 2, 'keychain': 2}"
      ]
     },
     "execution_count": 32,
     "metadata": {},
     "output_type": "execute_result"
    }
   ],
   "source": [
    "inventory"
   ]
  },
  {
   "cell_type": "code",
   "execution_count": 34,
   "id": "8a8cd130-e888-49b0-8218-b48384cba825",
   "metadata": {},
   "outputs": [
    {
     "data": {
      "text/plain": [
       "{'t-shirt': 2, 'mug': 1, 'hat': 1, 'book': 2, 'keychain': 2}"
      ]
     },
     "execution_count": 34,
     "metadata": {},
     "output_type": "execute_result"
    }
   ],
   "source": [
    "update_inventory(customer_orders, inventory)"
   ]
  },
  {
   "cell_type": "code",
   "execution_count": 45,
   "id": "1e46bb7b-7907-4d42-b963-55e9d3a4e153",
   "metadata": {},
   "outputs": [],
   "source": [
    "#Question 1\n",
    "# comp_list = [city.upper() for city in list_of_words]\n",
    "# my_list = [x for x in range(10) if x%2==0]\n",
    "# new_list = []\n",
    "def update_inventory(customer_orders, inventory):\n",
    "    for item in customer_orders:\n",
    "        if inventory[item] > 0:\n",
    "            inventory[item] -= 1 ## This is a hard coded number because hat=1 and mug =1.\n",
    "        else:\n",
    "            None \n",
    "    return inventory\n"
   ]
  },
  {
   "cell_type": "code",
   "execution_count": 47,
   "id": "8a1072cc-c45d-4775-b4ee-c3b7fa01ebc9",
   "metadata": {},
   "outputs": [
    {
     "data": {
      "text/plain": [
       "{'t-shirt': 2, 'mug': 0, 'hat': 0, 'book': 2, 'keychain': 2}"
      ]
     },
     "execution_count": 47,
     "metadata": {},
     "output_type": "execute_result"
    }
   ],
   "source": [
    "update_inventory(customer_orders, inventory)"
   ]
  },
  {
   "cell_type": "code",
   "execution_count": null,
   "id": "dc5c1cee-4358-42ea-9278-5b6c83d2aa25",
   "metadata": {},
   "outputs": [],
   "source": [
    "# Modify the function get_customer_orders so it prompts the user to enter the number of customer orders \n",
    "# and gathers the product names using a loop and user input. Use comprehension.\n",
    "\n",
    "def get_customer_orders():\n",
    "#  I used a while loop"
   ]
  },
  {
   "cell_type": "code",
   "execution_count": 51,
   "id": "56cf3dda-d260-4ea9-8228-fb32a015e9de",
   "metadata": {},
   "outputs": [],
   "source": [
    "#Q3Add a new function to calculate the total price of the customer order. \n",
    "#For each product in customer_orders, prompt the user to enter the price of that product. \n",
    "#Use comprehension to calculate the total price. Note: assume that the user can only have 1 unit of each product.\n",
    "products = [\"t-shirt\", \"mug\", \"hat\", \"book\", \"keychain\"]\n",
    "inventory = {}\n",
    "def total_price(products):\n",
    "    inventory = {products: int(input(f\"Enter Price of {products}\")) for products in products}\n",
    "    return inventory\n"
   ]
  },
  {
   "cell_type": "code",
   "execution_count": 2,
   "id": "0decb83d-8e4c-4958-9e3b-244055c2299c",
   "metadata": {},
   "outputs": [
    {
     "ename": "NameError",
     "evalue": "name 'total_price' is not defined",
     "output_type": "error",
     "traceback": [
      "\u001b[0;31m---------------------------------------------------------------------------\u001b[0m",
      "\u001b[0;31mNameError\u001b[0m                                 Traceback (most recent call last)",
      "Cell \u001b[0;32mIn[2], line 1\u001b[0m\n\u001b[0;32m----> 1\u001b[0m total_price(products)\n",
      "\u001b[0;31mNameError\u001b[0m: name 'total_price' is not defined"
     ]
    }
   ],
   "source": [
    "total_price(products)"
   ]
  },
  {
   "cell_type": "code",
   "execution_count": null,
   "id": "c8d83dc3-3fe5-4631-b02b-5f2c5df2c2c1",
   "metadata": {},
   "outputs": [],
   "source": [
    "#Q4  remove the product from the inventory if its quantity becomes zero after \n",
    "# fulfilling the customer orders. Use comprehension to filter out the products with a quantity of zero from the inventory.\n",
    "def update_inventory_mod(customer_orders, inventory):\n",
    "    for item in customer_orders:\n",
    "        if inventory[item] > 0:\n",
    "           inventory[item] -= 1 ## This is a hard coded number because hat=1 and mug =1.\n",
    "        else:\n",
    "            None \n",
    "    return inventory\n",
    "\n",
    "\n",
    "\n"
   ]
  },
  {
   "cell_type": "code",
   "execution_count": null,
   "id": "837a7951-160d-494a-9531-70810c94b8df",
   "metadata": {},
   "outputs": [],
   "source": [
    "#Q5 Print the total price of the customer order.\n",
    "def total_order_price\n"
   ]
  }
 ],
 "metadata": {
  "kernelspec": {
   "display_name": "Python [conda env:base] *",
   "language": "python",
   "name": "conda-base-py"
  },
  "language_info": {
   "codemirror_mode": {
    "name": "ipython",
    "version": 3
   },
   "file_extension": ".py",
   "mimetype": "text/x-python",
   "name": "python",
   "nbconvert_exporter": "python",
   "pygments_lexer": "ipython3",
   "version": "3.12.7"
  }
 },
 "nbformat": 4,
 "nbformat_minor": 5
}
